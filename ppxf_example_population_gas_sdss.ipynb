{
 "cells": [
  {
   "cell_type": "markdown",
   "id": "53953d5d",
   "metadata": {},
   "source": [
    "\n",
    "# pPXF: Stellar population and gas emission lines\n",
    "\n",
    "![pPXF](https://www-astro.physics.ox.ac.uk/~cappellari/software/ppxf_logo.svg)\n",
    "\n",
    "## Description\n",
    "\n",
    "Usage example for the procedure pPXF originally described in \n",
    "[Cappellari & Emsellem (2004)](http://adsabs.harvard.edu/abs/2004PASP..116..138C),\n",
    "substantially upgraded in \n",
    "[Cappellari (2017)](http://adsabs.harvard.edu/abs/2017MNRAS.466..798C) \n",
    "and with the inclusion of photometry and linear constraints in \n",
    "[Cappellari (2023)](https://ui.adsabs.harvard.edu/abs/2023MNRAS.526.3273C).\n",
    "\n",
    "This example shows how to study stellar population and include gas emission\n",
    "lines as templates instead of masking them using the `goodpiixels` keyword.\n",
    "\n",
    "### MODIFICATION HISTORY\n",
    "\n",
    "- V1.0.0: Adapted from PPXF_KINEMATICS_EXAMPLE.\n",
    "      Michele Cappellari, Oxford, 12 October 2011\n",
    "- V1.1.0: Made a separate routine for the construction of the templates\n",
    "      spectral library. MC, Vicenza, 11 October 2012\n",
    "- V1.1.1: Includes regul_error definition. MC, Oxford, 15 November 2012\n",
    "- V2.0.0: Translated from IDL into Python. MC, Oxford, 6 December 2013\n",
    "- V2.0.1: Fit SDSS rather than SAURON spectrum. MC, Oxford, 11 December 2013\n",
    "- V2.1.0: Includes gas emissions as templates instead of masking the spectrum.\n",
    "      MC, Oxford, 7 January 2014\n",
    "- V2.1.1: Support both Python 2.6/2.7 and Python 3.x. MC, Oxford, 25 May 2014\n",
    "- V2.1.2: Illustrates how to print and plot emission lines.\n",
    "      MC, Oxford, 5 August 2014\n",
    "- V2.1.3: Only includes emission lines falling within the fitted wavelength\n",
    "      range. MC, Oxford, 3 September 2014\n",
    "- V2.1.4: Explicitly sort template files as glob() output may not be sorted.\n",
    "      Thanks to Marina Trevisan for reporting problems under Linux.\n",
    "      MC, Sydney, 4 February 2015\n",
    "- V2.1.5: Included origin='upper' in imshow(). Thanks to Richard McDermid\n",
    "      for reporting a different default value with older Matplotlib versions.\n",
    "      MC, Oxford, 17 February 2015\n",
    "- V2.1.6: Use color= instead of c= to avoid new Matplotlib bug.\n",
    "      MC, Oxford, 25 February 2015\n",
    "- V2.1.7: Uses Pyfits from Astropy to read FITS files.\n",
    "      MC, Oxford, 22 October 2015\n",
    "- V2.1.8: Included treatment of the SDSS/MILES vacuum/air wavelength difference.\n",
    "      MC, Oxford, 12 August 2016\n",
    "- V2.1.9: Automate and test computation of nAge and nMetals.\n",
    "      MC, Oxford 1 November 2016\n",
    "- V3.0.0: Major upgrade. Compute mass-weighted population parameters and M/L\n",
    "      using the new `miles` class which leaves no room for user mistakes.\n",
    "      MC, Oxford, 2 December 2016\n",
    "- V3.0.1: Make files paths relative to this file, to run the example from\n",
    "      any directory. MC, Oxford, 18 January 2017\n",
    "- V3.1.0: Use ppxf method pp.plot(gas_component=...) to produce gas emission\n",
    "      lines plot. MC, Oxford, 13 March 2017\n",
    "- V3.2.0: Uses new ppxf keywords `gas_component` and `gas_names` to print the\n",
    "      fluxes and formal errors for the gas emission lines.\n",
    "      Uses different kinematic components for the Balmer lines and the rest.\n",
    "      MC, Oxford, 28 June 2017\n",
    "- V3.3.0: Illustrate how to tie the Balmer emission lines and fit for the\n",
    "      gas reddening using the `tie_balmer` keyword. Also limit doublets.\n",
    "      MC, Oxford, 31 October 2017\n",
    "- V3.3.1: Changed imports for pPXF as a package.\n",
    "      Make file paths relative to the pPXF package to be able to run the\n",
    "      example unchanged from any directory. MC, Oxford, 17 April 2018\n",
    "- V3.3.2: Dropped legacy Python 2.7 support. MC, Oxford, 10 May 2018\n",
    "- V4.0.3: Fixed clock DeprecationWarning in Python 3.7.\n",
    "      MC, Oxford, 27 September 2018\n",
    "- V4.1.0: Produce light-weighted instead of mass-weighted quantities and show\n",
    "      how to convert between the two. MC, Oxford, 16 July 2021\n",
    "- V4.2.0: Use E-Miles spectral library. MC, Oxford, 16 March 2022\n",
    "- V4.3.0: Use the new `sps_util` instead of `miles_util`. \n",
    "      MC, Oxford, 12 November 2023\n",
    "- V4.4.0: Included XSL SPS models. MC, Oxford. 29 may 2024\n",
    "\n",
    "___"
   ]
  },
  {
   "cell_type": "code",
   "execution_count": 1,
   "id": "be2f980c",
   "metadata": {},
   "outputs": [],
   "source": [
    "from time import perf_counter as clock\n",
    "from pathlib import Path\n",
    "from urllib import request\n",
    "\n",
    "import numpy as np\n",
    "import matplotlib.pyplot as plt\n",
    "from astropy.io import fits\n",
    "\n",
    "from ppxf.ppxf import ppxf\n",
    "import ppxf.ppxf_util as util\n",
    "import ppxf.sps_util as lib"
   ]
  },
  {
   "cell_type": "markdown",
   "id": "f1585b2a",
   "metadata": {},
   "source": [
    "The two variables below define whether one wants to fit the Balmer lines as\n",
    "individual lines with free fluxes, or as a single component, with relative\n",
    "fluxes dictated by atomic physics. Similarly, the [SII] doublet can be fit\n",
    "individually, or they can have their flux ratios limited (biu not fixed) by\n",
    "atomic physics (see details in the docstring of `ppxf.util.emission_lines`)."
   ]
  },
  {
   "cell_type": "code",
   "execution_count": 2,
   "id": "fc952727",
   "metadata": {},
   "outputs": [],
   "source": [
    "tie_balmer = True\n",
    "limit_doublets = True"
   ]
  },
  {
   "cell_type": "markdown",
   "id": "2fdf5fc2",
   "metadata": {},
   "source": [
    "Read SDSS galaxy spectrum taken from here https://www.sdss4.org/.\n",
    "The spectrum is *already* log rebinned by the SDSS\n",
    "pipeline and `log_rebin` should not be used in this case."
   ]
  },
  {
   "cell_type": "code",
   "execution_count": 3,
   "id": "e5e8ff3d",
   "metadata": {},
   "outputs": [],
   "source": [
    "ppxf_dir = Path(lib.__file__).parent\n",
    "file = ppxf_dir / 'spectra' / 'NGC3522_SDSS_DR18.fits'\n",
    "hdu = fits.open(file)\n",
    "t = hdu['COADD'].data\n",
    "redshift = hdu['SPECOBJ'].data['z'].item()       # SDSS redshift estimate\n",
    "\n",
    "flux = t['flux']\n",
    "galaxy = flux/np.median(flux)             # Normalize spectrum to avoid numerical issues\n",
    "ln_lam_gal = t['loglam']*np.log(10)       # Convert lg --> ln\n",
    "lam_gal = np.exp(ln_lam_gal)              # Wavelength in Angstroms (log sampled)"
   ]
  },
  {
   "cell_type": "markdown",
   "id": "e01f42ce",
   "metadata": {},
   "source": [
    "The SDSS wavelengths are in vacuum, while the MILES ones are in air.\n",
    "For a rigorous treatment, the SDSS vacuum wavelengths should be\n",
    "converted into air wavelengths and the spectra should be resampled.\n",
    "To avoid resampling, given that the wavelength dependence of the\n",
    "correction is very weak, I approximate it with a constant factor."
   ]
  },
  {
   "cell_type": "code",
   "execution_count": 4,
   "id": "564a15fc",
   "metadata": {},
   "outputs": [],
   "source": [
    "lam_gal *= np.median(util.vac_to_air(lam_gal)/lam_gal)"
   ]
  },
  {
   "cell_type": "markdown",
   "id": "efb85fa6",
   "metadata": {},
   "source": [
    "The noise level is chosen to give `Chi^2/DOF=1` for E-MILES without\n",
    "regularization (`regul=0`). A constant noise is not a bad approximation in\n",
    "the fitted wavelength range and reduces the noise in the fit."
   ]
  },
  {
   "cell_type": "code",
   "execution_count": 5,
   "id": "7dff2e70",
   "metadata": {},
   "outputs": [],
   "source": [
    "rms = 0.0158\n",
    "noise = np.full_like(galaxy, rms)  # Assume constant noise per pixel here"
   ]
  },
  {
   "cell_type": "markdown",
   "id": "a4662e0a",
   "metadata": {},
   "source": [
    "The velocity step was already chosen by the SDSS pipeline and I convert it below to km/s.\n",
    "I use eq.(8) of [Cappellari (2017)](http://adsabs.harvard.edu/abs/2017MNRAS.466..798C)"
   ]
  },
  {
   "cell_type": "code",
   "execution_count": 6,
   "id": "31030350",
   "metadata": {},
   "outputs": [],
   "source": [
    "c = 299792.458  # speed of light in km/s\n",
    "d_ln_lam_gal = (ln_lam_gal[-1] - ln_lam_gal[0])/(ln_lam_gal.size - 1)  # Use full lam range for accuracy\n",
    "velscale = c*d_ln_lam_gal                   # Velocity scale in km/s per pixel (eq.8 of Cappellari 2017)"
   ]
  },
  {
   "cell_type": "markdown",
   "id": "2de18561",
   "metadata": {},
   "source": [
    "I convert the instrumental dispersion to Angstroms"
   ]
  },
  {
   "cell_type": "code",
   "execution_count": 7,
   "id": "1883e141",
   "metadata": {},
   "outputs": [],
   "source": [
    "dlam_gal = np.gradient(lam_gal)             # Size of every pixel in Angstroms\n",
    "wdisp = t['wdisp']                          # Instrumental dispersion of every pixel, in pixels units\n",
    "fwhm_gal = 2.355*wdisp*dlam_gal             # Resolution FWHM of every pixel, in Angstroms"
   ]
  },
  {
   "cell_type": "markdown",
   "id": "7290681e",
   "metadata": {},
   "source": [
    "## Setup stellar templates \n",
    "\n",
    "pPXF can be used with any set of SPS population templates. However, I am\n",
    "currently providing (with permission) ready-to-use template files for four\n",
    "SPS. One can just uncomment one of the four models below. The included files\n",
    "are only a subset of the SPS that can be produced with the models, and one\n",
    "should use the relevant software/website to produce different sets of SPS\n",
    "templates if needed.\n",
    "\n",
    "1. If you use the [fsps v3.2](https://github.com/cconroy20/fsps) SPS model\n",
    "   templates, please also cite in your paper \n",
    "   [Conroy et al. (2009)](https://ui.adsabs.harvard.edu/abs/2009ApJ...699..486C) and\n",
    "   [Conroy et al. (2010)](https://ui.adsabs.harvard.edu/abs/2010ApJ...712..833C).\n",
    "\n",
    "2. If you use the [GALAXEV v2020](http://www.bruzual.org/bc03/) SPS model \n",
    "   templates, please also cite in your paper \n",
    "   [Bruzual & Charlot (2003)](https://ui.adsabs.harvard.edu/abs/2003MNRAS.344.1000B).\n",
    "\n",
    "3. If you use the [E-MILES](http://miles.iac.es/) SPS model templates,\n",
    "   please also cite  in your paper \n",
    "   [Vazdekis et al. (2016)](https://ui.adsabs.harvard.edu/abs/2016MNRAS.463.3409V).\n",
    "   <font color=\"red\">WARNING: The E-MILES models only include SPS with age > 63 Myr and\n",
    "   are not recommended for highly star forming galaxies.</font>\n",
    "\n",
    "4. If you use the [X-Shooter Spectral Library (XSL)](http://xsl.u-strasbg.fr/) \n",
    "   SPS model templates, please also cite in your paper \n",
    "   [Verro et al. (2022)](https://ui.adsabs.harvard.edu/abs/2022A%26A...661A..50V). \n",
    "   <font color=\"red\">WARNING: The XSL models only include SPS with age > 50 Myr and\n",
    "   are not recommended for highly star forming galaxies.</font>"
   ]
  },
  {
   "cell_type": "code",
   "execution_count": 8,
   "id": "efacc2dc",
   "metadata": {},
   "outputs": [],
   "source": [
    "# sps_name = 'fsps'\n",
    "# sps_name = 'galaxev'\n",
    "sps_name = 'emiles'\n",
    "# sps_name = 'xsl'"
   ]
  },
  {
   "cell_type": "markdown",
   "id": "ea925393",
   "metadata": {},
   "source": [
    "Read SPS models file from my GitHub if not already in the `pPXF` package dir.\n",
    "The SPS model files are also available on my [GitHub Page](https://github.com/micappe/ppxf_data)."
   ]
  },
  {
   "cell_type": "code",
   "execution_count": 9,
   "id": "b404f242",
   "metadata": {},
   "outputs": [],
   "source": [
    "basename = f\"spectra_{sps_name}_9.0.npz\"\n",
    "filename = ppxf_dir / 'sps_models' / basename\n",
    "if not filename.is_file():\n",
    "    url = \"https://raw.githubusercontent.com/micappe/ppxf_data/main/\" + basename\n",
    "    request.urlretrieve(url, filename)"
   ]
  },
  {
   "cell_type": "markdown",
   "id": "8cbcaa85",
   "metadata": {},
   "source": [
    "Only the E-MILES and XLS SPS libraries have sufficient resolution beyond 7400 A"
   ]
  },
  {
   "cell_type": "code",
   "execution_count": 10,
   "id": "7260cc16",
   "metadata": {},
   "outputs": [],
   "source": [
    "if sps_name in ['fsps', 'galaxev']:\n",
    "    w = lam_gal < 7400\n",
    "    galaxy = galaxy[w]\n",
    "    noise = noise[w]\n",
    "    lam_gal = lam_gal[w]\n",
    "    fwhm_gal = fwhm_gal[w]"
   ]
  },
  {
   "cell_type": "markdown",
   "id": "cd6892f7",
   "metadata": {},
   "source": [
    "The templates are normalized to the V-band using norm_range. In this way\n",
    "the weights returned by pPXF represent V-band light fractions of each SSP."
   ]
  },
  {
   "cell_type": "code",
   "execution_count": 11,
   "id": "391b045e",
   "metadata": {},
   "outputs": [],
   "source": [
    "fwhm_gal_dic = {\"lam\": lam_gal, \"fwhm\": fwhm_gal}\n",
    "sps = lib.sps_lib(filename, velscale, fwhm_gal_dic, norm_range=[5070, 5950])"
   ]
  },
  {
   "cell_type": "markdown",
   "id": "c1ae55fe",
   "metadata": {},
   "source": [
    "## Setup gas templates\n",
    "\n",
    "The stellar templates are reshaped below into a 2-dim array with each\n",
    "spectrum as a column; however, I save the original array dimensions,\n",
    "which are needed to specify the regularization dimensions"
   ]
  },
  {
   "cell_type": "code",
   "execution_count": 12,
   "id": "bcdafd02",
   "metadata": {},
   "outputs": [],
   "source": [
    "reg_dim = sps.templates.shape[1:]\n",
    "stars_templates = sps.templates.reshape(sps.templates.shape[0], -1)"
   ]
  },
  {
   "cell_type": "markdown",
   "id": "b3a85fef",
   "metadata": {},
   "source": [
    "Given that both the galaxy spectrum and the templates were normalized to a\n",
    "median value around unity, a regularization error of about one percent is a\n",
    "good start. See the pPXF documentation for the keyword `regul`."
   ]
  },
  {
   "cell_type": "code",
   "execution_count": 13,
   "id": "0a820ae7",
   "metadata": {},
   "outputs": [],
   "source": [
    "regul_err = 0.01"
   ]
  },
  {
   "cell_type": "markdown",
   "id": "73c8f3a1",
   "metadata": {},
   "source": [
    "Estimate the wavelength's fitted range in the rest frame."
   ]
  },
  {
   "cell_type": "code",
   "execution_count": 14,
   "id": "962b3418",
   "metadata": {},
   "outputs": [],
   "source": [
    "lam_range_gal = np.array([np.min(lam_gal), np.max(lam_gal)])/(1 + redshift)"
   ]
  },
  {
   "cell_type": "markdown",
   "id": "7fbad5e9",
   "metadata": {},
   "source": [
    "Construct a set of Gaussian emission line templates. The `emission_lines`\n",
    "function defines the most common lines, but additional lines can be\n",
    "included by editing the function in the file ppxf_util.py."
   ]
  },
  {
   "cell_type": "code",
   "execution_count": 15,
   "id": "1147a1e4",
   "metadata": {},
   "outputs": [
    {
     "name": "stdout",
     "output_type": "stream",
     "text": [
      "Emission lines included in gas templates:\n",
      "['Balmer' '[SII]6731_d1' '[SII]6731_d2' '[NeIII]3968' '[NeIII]3869'\n",
      " 'HeII4687' 'HeI5876' '[OIII]5007_d' '[OI]6300_d' '[NII]6583_d']\n"
     ]
    }
   ],
   "source": [
    "gas_templates, gas_names, line_wave = util.emission_lines(\n",
    "    sps.ln_lam_temp, lam_range_gal, fwhm_gal_dic, tie_balmer=tie_balmer,\n",
    "    limit_doublets=limit_doublets)"
   ]
  },
  {
   "cell_type": "markdown",
   "id": "0a0c0061",
   "metadata": {},
   "source": [
    "Combines the stellar and gaseous templates into a single array. During the\n",
    "pPXF fit they will be assigned a different kinematic `component` value"
   ]
  },
  {
   "cell_type": "code",
   "execution_count": 16,
   "id": "716cae69",
   "metadata": {},
   "outputs": [],
   "source": [
    "templates = np.column_stack([stars_templates, gas_templates])"
   ]
  },
  {
   "cell_type": "markdown",
   "id": "d4f064fe",
   "metadata": {},
   "source": [
    "Compute the velocity from the redshift estimate using eq. (8) of \n",
    "[Cappellari (2017)](http://adsabs.harvard.edu/abs/2017MNRAS.466..798C).\n",
    "If the spectrum was at higher redshift, it would be more convenient to\n",
    "de-redshift it before the `pPXF` fit and set `vel=0` below."
   ]
  },
  {
   "cell_type": "code",
   "execution_count": 17,
   "id": "4612bea0",
   "metadata": {},
   "outputs": [],
   "source": [
    "vel = c*np.log(1 + redshift)   # eq.(8) of Cappellari (2017)\n",
    "start = [vel, 180.]     # (km/s), starting guess for [V, sigma]"
   ]
  },
  {
   "cell_type": "markdown",
   "id": "eed06e42",
   "metadata": {},
   "source": [
    "Extract the number of Balmer and forbidden lines from their list of names in `gas_names`."
   ]
  },
  {
   "cell_type": "code",
   "execution_count": 18,
   "id": "23b8f6d0",
   "metadata": {},
   "outputs": [],
   "source": [
    "n_temps = stars_templates.shape[1]\n",
    "n_forbidden = np.sum([\"[\" in a for a in gas_names])  # forbidden lines contain \"[*]\"\n",
    "n_balmer = len(gas_names) - n_forbidden"
   ]
  },
  {
   "cell_type": "markdown",
   "id": "3cda820b",
   "metadata": {},
   "source": [
    "Assign `component=0` to the stellar templates, `component=1` to the Balmer\n",
    "gas emission lines templates and `component=2` to the forbidden lines."
   ]
  },
  {
   "cell_type": "code",
   "execution_count": 19,
   "id": "179ce377",
   "metadata": {},
   "outputs": [],
   "source": [
    "component = [0]*n_temps + [1]*n_balmer + [2]*n_forbidden\n",
    "gas_component = np.array(component) > 0  # gas_component=True for gas templates"
   ]
  },
  {
   "cell_type": "markdown",
   "id": "7bee2fa1",
   "metadata": {},
   "source": [
    "Fit $(V, \\sigma, h_3, h_4)$ `moments=4` for the stars\n",
    "and $(V, \\sigma)$ `moments=2` for the two gas kinematic components"
   ]
  },
  {
   "cell_type": "code",
   "execution_count": 20,
   "id": "86a3895e",
   "metadata": {},
   "outputs": [],
   "source": [
    "moments = [4, 2, 2]"
   ]
  },
  {
   "cell_type": "markdown",
   "id": "c44786db",
   "metadata": {},
   "source": [
    "Adopt the same starting value for the stars and the two gas components"
   ]
  },
  {
   "cell_type": "code",
   "execution_count": 21,
   "id": "96c9faf8",
   "metadata": {},
   "outputs": [],
   "source": [
    "start = [start, start, start]"
   ]
  },
  {
   "cell_type": "markdown",
   "id": "b8dfd5a3",
   "metadata": {},
   "source": [
    "If the Balmer lines are tied, one should allow for gas reddening.\n",
    "The `gas_reddening` can be different from the stellar one, if both are fitted."
   ]
  },
  {
   "cell_type": "code",
   "execution_count": 22,
   "id": "e8e01626",
   "metadata": {},
   "outputs": [],
   "source": [
    "gas_reddening = 0 if tie_balmer else None"
   ]
  },
  {
   "cell_type": "markdown",
   "id": "7a444a9f",
   "metadata": {},
   "source": [
    "## pPXF fitting\n",
    "\n",
    "IMPORTANT: Ideally one would like not to use any polynomial in the fit as\n",
    "the continuum shape contains important information on the population.\n",
    "Unfortunately, this is often not feasible, due to small calibration\n",
    "uncertainties in the spectral shape. To avoid affecting the line strength\n",
    "of the spectral features, I exclude additive polynomials (`degree=-1`) and\n",
    "only use multiplicative ones (`mdegree=10`). This is only recommended for\n",
    "population, not for kinematic extraction, where additive polynomials are\n",
    "always recommended."
   ]
  },
  {
   "cell_type": "code",
   "execution_count": 23,
   "id": "79076279",
   "metadata": {},
   "outputs": [
    {
     "name": "stdout",
     "output_type": "stream",
     "text": [
      " Best Fit:       Vel     sigma        h3        h4\n",
      " comp.  0:      1214        99    -0.027     0.032\n",
      " comp.  1:      1208        81\n",
      " comp.  2:      1194        72\n",
      "  Gas Attenuation A_V: 0.252\n",
      "chi2/DOF: 1.016; DOF: 3796; degree = -1; mdegree = 10\n",
      "method = capfit; Jac calls: 5; Func calls: 102; Status: 2\n",
      "linear_method = lsq_box; Nonzero Templates (>0.1%): 42/160\n",
      "+++++++++++++++++++++++++++++++++++++++++++++++++++++++++++++++++\n",
      "gas_component           name        flux       err      V     sig\n",
      "+++++++++++++++++++++++++++++++++++++++++++++++++++++++++++++++++\n",
      "Comp:  1                Balmer      2.283     0.064    1208    81\n",
      "Comp:  1          [SII]6731_d1    0.04982     0.093    1208    81\n",
      "Comp:  1          [SII]6731_d2     0.5051     0.098    1208    81\n",
      "Comp:  2           [NeIII]3968    0.06802     0.038    1194    72\n",
      "Comp:  2           [NeIII]3869     0.2312     0.038    1194    72\n",
      "Comp:  2              HeII4687     0.1106     0.036    1194    72\n",
      "Comp:  2               HeI5876   0.007163     0.035    1194    72\n",
      "Comp:  2          [OIII]5007_d      1.229     0.045    1194    72\n",
      "Comp:  2            [OI]6300_d   0.002250     0.045    1194    72\n",
      "Comp:  2           [NII]6583_d     0.4569     0.045    1194    72\n",
      "-----------------------------------------------------------------\n",
      "Elapsed time in pPXF: 7.65\n"
     ]
    }
   ],
   "source": [
    "t = clock()\n",
    "pp = ppxf(templates, galaxy, noise, velscale, start, moments=moments,\n",
    "          degree=-1, mdegree=10, lam=lam_gal, lam_temp=sps.lam_temp,\n",
    "          regul=1/regul_err, reg_dim=reg_dim, component=component,\n",
    "          gas_component=gas_component, gas_names=gas_names,\n",
    "          gas_reddening=gas_reddening)\n",
    "print(f\"Elapsed time in pPXF: {(clock() - t):.2f}\")"
   ]
  },
  {
   "cell_type": "markdown",
   "id": "0bb8e953",
   "metadata": {},
   "source": [
    "When the two $\\Delta\\chi^2$ below are approximately the same, the solution\n",
    "is the smoothest consistent with the observed spectrum."
   ]
  },
  {
   "cell_type": "code",
   "execution_count": 24,
   "id": "f5c5797d",
   "metadata": {},
   "outputs": [
    {
     "name": "stdout",
     "output_type": "stream",
     "text": [
      "Desired Delta Chi^2: 87.35\n",
      "Current Delta Chi^2: 61.90\n"
     ]
    }
   ],
   "source": [
    "print(f\"Desired Delta Chi^2: {np.sqrt(2*galaxy.size):#.4g}\")\n",
    "print(f\"Current Delta Chi^2: {(pp.chi2 - 1)*galaxy.size:#.4g}\")\n",
    "\n",
    "light_weights = pp.weights[~gas_component]            # Exclude weights of the gas templates\n",
    "light_weights = light_weights.reshape(reg_dim)        # Reshape to (n_ages, n_metal)"
   ]
  },
  {
   "cell_type": "markdown",
   "id": "82de32af",
   "metadata": {},
   "source": [
    "Given that the templates are normalized to the V-band, the pPXF weights\n",
    "represent v-band light fractions, and the computed ages and metallicities\n",
    "below are also light weighted in the V-band."
   ]
  },
  {
   "cell_type": "code",
   "execution_count": 25,
   "id": "1ac1783e",
   "metadata": {},
   "outputs": [
    {
     "name": "stdout",
     "output_type": "stream",
     "text": [
      "Weighted <lg_age> [yr]: 9.87\n",
      "Weighted <[M/H]>: 0.00469\n"
     ]
    }
   ],
   "source": [
    "sps.mean_age_metal(light_weights);"
   ]
  },
  {
   "cell_type": "markdown",
   "id": "f96c2c59",
   "metadata": {},
   "source": [
    "The `M*/L` is independent on whether one inputs light or mass weights\n",
    "and the overall normalization is also irrelevant"
   ]
  },
  {
   "cell_type": "code",
   "execution_count": 26,
   "id": "e0b0d6e4",
   "metadata": {},
   "outputs": [
    {
     "name": "stdout",
     "output_type": "stream",
     "text": [
      "(M*/L)=4.611 (SDSS/r at z=0.0040)\n"
     ]
    }
   ],
   "source": [
    "sps.mass_to_light(light_weights, band=\"SDSS/r\", redshift=redshift);"
   ]
  },
  {
   "cell_type": "markdown",
   "id": "d8d8ea79",
   "metadata": {},
   "source": [
    "## Plot results\n",
    "\n",
    "Plot fit results for stars and gas. Plot stellar population mass-fraction\n",
    "distribution"
   ]
  },
  {
   "cell_type": "code",
   "execution_count": 27,
   "id": "dbf4f445",
   "metadata": {},
   "outputs": [
    {
     "data": {
      "image/png": "[encoded data removed]",
      "text/plain": [
       "<Figure size 1043.2x782.4 with 3 Axes>"
      ]
     },
     "metadata": {},
     "output_type": "display_data"
    }
   ],
   "source": [
    "plt.clf()\n",
    "plt.subplot(211)\n",
    "pp.plot()\n",
    "plt.title(f\"pPXF fit with {sps_name} SPS templates\");\n",
    "\n",
    "plt.subplot(212)\n",
    "sps.plot(light_weights/light_weights.sum())  # Normalize to light fractions\n",
    "txt1 = \"tied\" if tie_balmer else \"free\"\n",
    "txt2 = \"limited\" if limit_doublets else \"free\"\n",
    "plt.title(f\"Fit with {txt1} Balmer lines and {txt2} [SII] doublet\")\n",
    "plt.tight_layout()\n",
    "plt.pause(5);"
   ]
  }
 ],
 "metadata": {
  "jupytext": {
   "cell_metadata_filter": "-all",
   "formats": "py:percent,ipynb",
   "main_language": "python"
  },
  "kernelspec": {
   "display_name": "base",
   "language": "python",
   "name": "python3"
  },
  "language_info": {
   "codemirror_mode": {
    "name": "ipython",
    "version": 3
   },
   "file_extension": ".py",
   "mimetype": "text/x-python",
   "name": "python",
   "nbconvert_exporter": "python",
   "pygments_lexer": "ipython3",
   "version": "3.12.3"
  }
 },
 "nbformat": 4,
 "nbformat_minor": 5
}
